{
 "cells": [
  {
   "cell_type": "markdown",
   "metadata": {
    "id": "Ybe8CY07zp7D"
   },
   "source": [
    "## Scenario - Robots in a Warehouse\n",
    "A growing e-commerce company is building a new warehouse, and the company would like all of the picking operations in the new warehouse to be performed by warehouse robots.\n",
    "* In the context of e-commerce warehousing, “picking” is the task of gathering individual items from various locations in the warehouse in order to fulfill customer orders.\n",
    "\n",
    "After picking items from the shelves, the robots must bring the items to a specific location within the warehouse where the items can be packaged for shipping.\n",
    "\n",
    "In order to ensure maximum efficiency and productivity, the robots will need to learn the shortest path between the item packaging area and all other locations within the warehouse where the robots are allowed to travel.\n",
    "* We will use Q-learning to accomplish this task!\n",
    "\n",
    "#### Import Required Libraries"
   ]
  },
  {
   "cell_type": "code",
   "execution_count": 1,
   "metadata": {
    "id": "rfdhGGMsw1H7"
   },
   "outputs": [],
   "source": [
    "#import libraries\n",
    "import numpy as np"
   ]
  },
  {
   "cell_type": "markdown",
   "metadata": {
    "id": "Kq-QPfDnx4Fo"
   },
   "source": [
    "## Define the Environment\n",
    "The environment consists of **states**, **actions**, and **rewards**. States and actions are inputs for the Q-learning AI agent, while the possible actions are the AI agent's outputs.\n",
    "#### States\n",
    "The states in the environment are all of the possible locations within the warehouse. Some of these locations are for storing items (**black squares**), while other locations are aisles that the robot can use to travel throughout the warehouse (**white squares**). The **green square** indicates the item packaging and shipping area.\n",
    "\n",
    "The black and green squares are **terminal states**!\n",
    "\n",
    "![warehouse map](https://www.danielsoper.com/teaching/img/08-warehouse-map.png)\n",
    "\n",
    "The AI agent's goal is to learn the shortest path between the item packaging area and all of the other locations in the warehouse where the robot is allowed to travel.\n",
    "\n",
    "As shown in the image above, there are 121 possible states (locations) within the warehouse. These states are arranged in a grid containing 11 rows and 11 columns. Each location can hence be identified by its row and column index."
   ]
  },
  {
   "cell_type": "code",
   "execution_count": 2,
   "metadata": {
    "id": "9AdpFVfy6ya9"
   },
   "outputs": [],
   "source": [
    "#define the shape of the environment (i.e., its states)\n",
    "environment_rows = 11\n",
    "environment_columns = 11\n",
    "\n",
    "#Create a 3D numpy array to hold the current Q-values for each state and action pair: Q(s, a)\n",
    "#The array contains 11 rows and 11 columns (to match the shape of the environment), as well as a third \"action\" dimension.\n",
    "#The \"action\" dimension consists of 4 layers that will allow us to keep track of the Q-values for each possible action in\n",
    "#each state (see next cell for a description of possible actions).\n",
    "#The value of each (state, action) pair is initialized to 0.\n",
    "q_values = np.zeros((environment_rows, environment_columns, 4))"
   ]
  },
  {
   "cell_type": "markdown",
   "metadata": {
    "id": "07gGSNz07xtP"
   },
   "source": [
    "#### Actions\n",
    "The actions that are available to the AI agent are to move the robot in one of four directions:\n",
    "* Up\n",
    "* Right\n",
    "* Down\n",
    "* Left\n",
    "\n",
    "Obviously, the AI agent must learn to avoid driving into the item storage locations (e.g., shelves)!\n"
   ]
  },
  {
   "cell_type": "code",
   "execution_count": 3,
   "metadata": {
    "id": "z43QX_t080q3"
   },
   "outputs": [],
   "source": [
    "#define actions\n",
    "#numeric action codes: 0 = up, 1 = right, 2 = down, 3 = left\n",
    "actions = ['up', 'right', 'down', 'left']"
   ]
  },
  {
   "cell_type": "markdown",
   "metadata": {
    "id": "X25vn4VKw2as"
   },
   "source": [
    "#### Rewards\n",
    "The last component of the environment that we need to define are the **rewards**.\n",
    "\n",
    "To help the AI agent learn, each state (location) in the warehouse is assigned a reward value.\n",
    "\n",
    "The agent may begin at any white square, but its goal is always the same: ***to maximize its total rewards***!\n",
    "\n",
    "Negative rewards (i.e., **punishments**) are used for all states except the goal.\n",
    "* This encourages the AI to identify the *shortest path* to the goal by *minimizing its punishments*!\n",
    "\n",
    "![warehouse map](https://www.danielsoper.com/teaching/img/08-warehouse-map-rewards.png)\n",
    "\n",
    "To maximize its cumulative rewards (by minimizing its cumulative punishments), the AI agent will need find the shortest paths between the item packaging area (green square) and all of the other locations in the warehouse where the robot is allowed to travel (white squares). The agent will also need to learn to avoid crashing into any of the item storage locations (black squares)!"
   ]
  },
  {
   "cell_type": "code",
   "execution_count": 4,
   "metadata": {
    "colab": {
     "base_uri": "https://localhost:8080/"
    },
    "id": "GIJu7XsLXw62",
    "outputId": "604e26ea-c331-4b54-87c4-876b910d1065"
   },
   "outputs": [
    {
     "name": "stdout",
     "output_type": "stream",
     "text": [
      "[-100. -100. -100. -100. -100.  100. -100. -100. -100. -100. -100.]\n",
      "[-100.   -1.   -1.   -1.   -1.   -1.   -1.   -1.   -1.   -1. -100.]\n",
      "[-100.   -1. -100. -100. -100. -100. -100.   -1. -100.   -1. -100.]\n",
      "[-100.   -1.   -1.   -1.   -1.   -1.   -1.   -1. -100.   -1. -100.]\n",
      "[-100. -100. -100.   -1. -100. -100. -100.   -1. -100. -100. -100.]\n",
      "[-1. -1. -1. -1. -1. -1. -1. -1. -1. -1. -1.]\n",
      "[-100. -100. -100. -100. -100.   -1. -100. -100. -100. -100. -100.]\n",
      "[-100.   -1.   -1.   -1.   -1.   -1.   -1.   -1.   -1.   -1. -100.]\n",
      "[-100. -100. -100.   -1. -100. -100. -100.   -1. -100. -100. -100.]\n",
      "[-1. -1. -1. -1. -1. -1. -1. -1. -1. -1. -1.]\n",
      "[-100. -100. -100. -100. -100. -100. -100. -100. -100. -100. -100.]\n"
     ]
    }
   ],
   "source": [
    "#Create a 2D numpy array to hold the rewards for each state.\n",
    "#The array contains 11 rows and 11 columns (to match the shape of the environment), and each value is initialized to -100.\n",
    "rewards = np.full((environment_rows, environment_columns), -100.)\n",
    "rewards[0, 5] = 100. #set the reward for the packaging area (i.e., the goal) to 100\n",
    "\n",
    "#define aisle locations (i.e., white squares) for rows 1 through 9\n",
    "aisles = {} #store locations in a dictionary\n",
    "aisles[1] = [i for i in range(1, 10)]\n",
    "aisles[2] = [1, 7, 9]\n",
    "aisles[3] = [i for i in range(1, 8)]\n",
    "aisles[3].append(9)\n",
    "aisles[4] = [3, 7]\n",
    "aisles[5] = [i for i in range(11)]\n",
    "aisles[6] = [5]\n",
    "aisles[7] = [i for i in range(1, 10)]\n",
    "aisles[8] = [3, 7]\n",
    "aisles[9] = [i for i in range(11)]\n",
    "\n",
    "#set the rewards for all aisle locations (i.e., white squares)\n",
    "for row_index in range(1, 10):\n",
    "  for column_index in aisles[row_index]:\n",
    "    rewards[row_index, column_index] = -1.\n",
    "\n",
    "#print rewards matrix\n",
    "for row in rewards:\n",
    "  print(row)"
   ]
  },
  {
   "cell_type": "markdown",
   "metadata": {
    "id": "GFEor01iCCin"
   },
   "source": [
    "## Train the Model\n",
    "Our next task is for our AI agent to learn about its environment by implementing a Q-learning model. The learning process will follow these steps:\n",
    "1. Choose a random, non-terminal state (white square) for the agent to begin this new episode.\n",
    "2. Choose an action (move *up*, *right*, *down*, or *left*) for the current state. Actions will be chosen using an *epsilon greedy algorithm*. This algorithm will usually choose the most promising action for the AI agent, but it will occasionally choose a less promising option in order to encourage the agent to explore the environment.\n",
    "3. Perform the chosen action, and transition to the next state (i.e., move to the next location).\n",
    "4. Receive the reward for moving to the new state, and calculate the temporal difference.\n",
    "5. Update the Q-value for the previous state and action pair.\n",
    "6. If the new (current) state is a terminal state, go to #1. Else, go to #2.\n",
    "\n",
    "This entire process will be repeated across 1000 episodes. This will provide the AI agent sufficient opportunity to learn the shortest paths between the item packaging area and all other locations in the warehouse where the robot is allowed to travel, while simultaneously avoiding crashing into any of the item storage locations!\n",
    "\n",
    "#### Define Helper Functions"
   ]
  },
  {
   "cell_type": "code",
   "execution_count": 5,
   "metadata": {
    "id": "DnCfO5tVG0LJ"
   },
   "outputs": [],
   "source": [
    "#define a function that determines if the specified location is a terminal state\n",
    "def is_terminal_state(current_row_index, current_column_index):\n",
    "  #if the reward for this location is -1, then it is not a terminal state (i.e., it is a 'white square')\n",
    "  if rewards[current_row_index, current_column_index] == -1.:\n",
    "    return False\n",
    "  else:\n",
    "    return True\n",
    "\n",
    "#define a function that will choose a random, non-terminal starting location\n",
    "def get_starting_location():\n",
    "  #get a random row and column index\n",
    "  current_row_index = np.random.randint(environment_rows)\n",
    "  current_column_index = np.random.randint(environment_columns)\n",
    "  #continue choosing random row and column indexes until a non-terminal state is identified\n",
    "  #(i.e., until the chosen state is a 'white square').\n",
    "  while is_terminal_state(current_row_index, current_column_index):\n",
    "    current_row_index = np.random.randint(environment_rows)\n",
    "    current_column_index = np.random.randint(environment_columns)\n",
    "  return current_row_index, current_column_index\n",
    "\n",
    "#define an epsilon greedy algorithm that will choose which action to take next (i.e., where to move next)\n",
    "def get_next_action(current_row_index, current_column_index, epsilon):\n",
    "  #if a randomly chosen value between 0 and 1 is less than epsilon,\n",
    "  #then choose the most promising value from the Q-table for this state.\n",
    "  if np.random.random() < epsilon:\n",
    "    return np.argmax(q_values[current_row_index, current_column_index])\n",
    "  else: #choose a random action\n",
    "    return np.random.randint(4)\n",
    "\n",
    "#define a function that will get the next location based on the chosen action\n",
    "def get_next_location(current_row_index, current_column_index, action_index):\n",
    "  new_row_index = current_row_index\n",
    "  new_column_index = current_column_index\n",
    "  if actions[action_index] == 'up' and current_row_index > 0:\n",
    "    new_row_index -= 1\n",
    "  elif actions[action_index] == 'right' and current_column_index < environment_columns - 1:\n",
    "    new_column_index += 1\n",
    "  elif actions[action_index] == 'down' and current_row_index < environment_rows - 1:\n",
    "    new_row_index += 1\n",
    "  elif actions[action_index] == 'left' and current_column_index > 0:\n",
    "    new_column_index -= 1\n",
    "  return new_row_index, new_column_index\n",
    "\n",
    "#Define a function that will get the shortest path between any location within the warehouse that\n",
    "#the robot is allowed to travel and the item packaging location.\n",
    "def get_shortest_path(start_row_index, start_column_index):\n",
    "  #return immediately if this is an invalid starting location\n",
    "  if is_terminal_state(start_row_index, start_column_index):\n",
    "    return []\n",
    "  else: #if this is a 'legal' starting location\n",
    "    current_row_index, current_column_index = start_row_index, start_column_index\n",
    "    shortest_path = []\n",
    "    shortest_path.append([current_row_index, current_column_index])\n",
    "    #continue moving along the path until we reach the goal (i.e., the item packaging location)\n",
    "    while not is_terminal_state(current_row_index, current_column_index):\n",
    "      #get the best action to take\n",
    "      action_index = get_next_action(current_row_index, current_column_index, 1.)\n",
    "      #move to the next location on the path, and add the new location to the list\n",
    "      current_row_index, current_column_index = get_next_location(current_row_index, current_column_index, action_index)\n",
    "      shortest_path.append([current_row_index, current_column_index])\n",
    "    return shortest_path"
   ]
  },
  {
   "cell_type": "markdown",
   "metadata": {
    "id": "pjl9niKEqONs"
   },
   "source": [
    "#### Train the AI Agent using Q-Learning"
   ]
  },
  {
   "cell_type": "code",
   "execution_count": 6,
   "metadata": {
    "colab": {
     "base_uri": "https://localhost:8080/"
    },
    "id": "3N5BB0m0JHIn",
    "outputId": "7e10409a-b4ab-48d0-cb51-e513ff58525c"
   },
   "outputs": [
    {
     "name": "stdout",
     "output_type": "stream",
     "text": [
      "Training complete!\n"
     ]
    }
   ],
   "source": [
    "#define training parameters\n",
    "epsilon = 0.9 #the percentage of time when we should take the best action (instead of a random action)\n",
    "discount_factor = 0.9 #discount factor for future rewards\n",
    "learning_rate = 0.9 #the rate at which the AI agent should learn\n",
    "\n",
    "#run through 1000 training episodes\n",
    "for episode in range(1000):\n",
    "  #get the starting location for this episode\n",
    "  row_index, column_index = get_starting_location()\n",
    "\n",
    "  #continue taking actions (i.e., moving) until we reach a terminal state\n",
    "  #(i.e., until we reach the item packaging area or crash into an item storage location)\n",
    "  while not is_terminal_state(row_index, column_index):\n",
    "    #choose which action to take (i.e., where to move next)\n",
    "    action_index = get_next_action(row_index, column_index, epsilon)\n",
    "\n",
    "    #perform the chosen action, and transition to the next state (i.e., move to the next location)\n",
    "    old_row_index, old_column_index = row_index, column_index #store the old row and column indexes\n",
    "    row_index, column_index = get_next_location(row_index, column_index, action_index)\n",
    "\n",
    "    #receive the reward for moving to the new state, and calculate the temporal difference\n",
    "    reward = rewards[row_index, column_index]\n",
    "    old_q_value = q_values[old_row_index, old_column_index, action_index]\n",
    "    temporal_difference = reward + (discount_factor * np.max(q_values[row_index, column_index])) - old_q_value\n",
    "\n",
    "    #update the Q-value for the previous state and action pair\n",
    "    new_q_value = old_q_value + (learning_rate * temporal_difference)\n",
    "    q_values[old_row_index, old_column_index, action_index] = new_q_value\n",
    "\n",
    "print('Training complete!')"
   ]
  },
  {
   "cell_type": "code",
   "execution_count": 7,
   "metadata": {
    "colab": {
     "base_uri": "https://localhost:8080/"
    },
    "id": "4ugdFqzpuMk6",
    "outputId": "86e75bb4-1ab5-4ec7-e950-2179b1ee60cd"
   },
   "outputs": [
    {
     "data": {
      "text/plain": [
       "array([[[   0.        ,    0.        ,    0.        ,    0.        ],\n",
       "        [   0.        ,    0.        ,    0.        ,    0.        ],\n",
       "        [   0.        ,    0.        ,    0.        ,    0.        ],\n",
       "        [   0.        ,    0.        ,    0.        ,    0.        ],\n",
       "        [   0.        ,    0.        ,    0.        ,    0.        ],\n",
       "        [   0.        ,    0.        ,    0.        ,    0.        ],\n",
       "        [   0.        ,    0.        ,    0.        ,    0.        ],\n",
       "        [   0.        ,    0.        ,    0.        ,    0.        ],\n",
       "        [   0.        ,    0.        ,    0.        ,    0.        ],\n",
       "        [   0.        ,    0.        ,    0.        ,    0.        ],\n",
       "        [   0.        ,    0.        ,    0.        ,    0.        ]],\n",
       "\n",
       "       [[   0.        ,    0.        ,    0.        ,    0.        ],\n",
       "        [ -99.9       ,   62.171     ,   48.40755926,  -99.9       ],\n",
       "        [ -99.9999    ,   70.19      ,  -99.99      ,   54.39536097],\n",
       "        [ -99.9       ,   79.1       ,  -99.99      ,   -0.9       ],\n",
       "        [ -99.9       ,   89.        ,  -99.999999  ,   70.182891  ],\n",
       "        [ 100.        ,   79.1       , -100.        ,   79.1       ],\n",
       "        [-100.        ,   70.19      ,  -99.9999999 ,   89.        ],\n",
       "        [ -99.9999999 ,   62.171     ,   62.171     ,   79.1       ],\n",
       "        [ -90.        ,   49.2207561 ,  -99.9       ,   70.19      ],\n",
       "        [ -99.9       ,  -99.99      ,   48.3998963 ,   62.171     ],\n",
       "        [   0.        ,    0.        ,    0.        ,    0.        ]],\n",
       "\n",
       "       [[   0.        ,    0.        ,    0.        ,    0.        ],\n",
       "        [  54.9539    ,  -99.        ,   42.12883291,  -99.99      ],\n",
       "        [   0.        ,    0.        ,    0.        ,    0.        ],\n",
       "        [   0.        ,    0.        ,    0.        ,    0.        ],\n",
       "        [   0.        ,    0.        ,    0.        ,    0.        ],\n",
       "        [   0.        ,    0.        ,    0.        ,    0.        ],\n",
       "        [   0.        ,    0.        ,    0.        ,    0.        ],\n",
       "        [  70.19      , -100.        ,   54.9539    ,  -99.9999999 ],\n",
       "        [   0.        ,    0.        ,    0.        ,    0.        ],\n",
       "        [  54.9539    ,  -99.        ,   42.16934241,  -99.        ],\n",
       "        [   0.        ,    0.        ,    0.        ,    0.        ]],\n",
       "\n",
       "       [[   0.        ,    0.        ,    0.        ,    0.        ],\n",
       "        [  48.45851   ,   33.25023861,  -99.        ,  -90.        ],\n",
       "        [ -99.        ,   28.44392467,  -99.9       ,   42.612659  ],\n",
       "        [ -99.9       ,   -4.40839028,   18.52540677,   37.3513931 ],\n",
       "        [ -90.        ,   42.612659  ,  -90.        ,   -4.65838374],\n",
       "        [ -90.        ,   48.45851   ,  -90.        ,   33.23560581],\n",
       "        [ -90.        ,   54.9539    ,  -99.99      ,   42.56636712],\n",
       "        [  62.171     ,  -99.9999999 ,   48.45851   ,   48.45851   ],\n",
       "        [   0.        ,    0.        ,    0.        ,    0.        ],\n",
       "        [  48.45851   ,  -90.        ,  -90.        ,  -90.        ],\n",
       "        [   0.        ,    0.        ,    0.        ,    0.        ]],\n",
       "\n",
       "       [[   0.        ,    0.        ,    0.        ,    0.        ],\n",
       "        [   0.        ,    0.        ,    0.        ,    0.        ],\n",
       "        [   0.        ,    0.        ,    0.        ,    0.        ],\n",
       "        [  32.24125828,  -90.        ,   24.51916557,  -99.9       ],\n",
       "        [   0.        ,    0.        ,    0.        ,    0.        ],\n",
       "        [   0.        ,    0.        ,    0.        ,    0.        ],\n",
       "        [   0.        ,    0.        ,    0.        ,    0.        ],\n",
       "        [  54.9539    , -100.        ,   42.612659  ,  -99.99999999],\n",
       "        [   0.        ,    0.        ,    0.        ,    0.        ],\n",
       "        [   0.        ,    0.        ,    0.        ,    0.        ],\n",
       "        [   0.        ,    0.        ,    0.        ,    0.        ]],\n",
       "\n",
       "       [[ -99.9       ,   17.96052411,  -99.        ,   -6.08051076],\n",
       "        [ -90.        ,   21.06724901,  -90.        ,   -6.25825887],\n",
       "        [ -99.9       ,   24.51916557,  -99.        ,   17.72639269],\n",
       "        [  21.06469419,   28.35462841,  -99.9       ,   20.80617311],\n",
       "        [ -99.        ,   32.61625379,  -99.99      ,   21.3003203 ],\n",
       "        [-100.        ,   37.3513931 ,   28.35462841,   28.35462823],\n",
       "        [-100.        ,   42.612659  ,  -99.9999999 ,   32.61625379],\n",
       "        [  48.45851   ,   37.35139306,  -99.999999  ,   37.3513931 ],\n",
       "        [ -99.99      ,   28.88663845,  -99.        ,   42.612659  ],\n",
       "        [ -99.        ,   25.03164473,  -99.        ,   37.3513931 ],\n",
       "        [ -90.        ,   -4.83238981,  -90.        ,   32.61625313]],\n",
       "\n",
       "       [[   0.        ,    0.        ,    0.        ,    0.        ],\n",
       "        [   0.        ,    0.        ,    0.        ,    0.        ],\n",
       "        [   0.        ,    0.        ,    0.        ,    0.        ],\n",
       "        [   0.        ,    0.        ,    0.        ,    0.        ],\n",
       "        [   0.        ,    0.        ,    0.        ,    0.        ],\n",
       "        [  32.61625379, -100.        ,   24.51916528,  -99.999999  ],\n",
       "        [   0.        ,    0.        ,    0.        ,    0.        ],\n",
       "        [   0.        ,    0.        ,    0.        ,    0.        ],\n",
       "        [   0.        ,    0.        ,    0.        ,    0.        ],\n",
       "        [   0.        ,    0.        ,    0.        ,    0.        ],\n",
       "        [   0.        ,    0.        ,    0.        ,    0.        ]],\n",
       "\n",
       "       [[   0.        ,    0.        ,    0.        ,    0.        ],\n",
       "        [ -99.        ,   15.1644717 ,  -99.        ,  -90.        ],\n",
       "        [ -99.9       ,   17.96052411,  -99.99      ,   -6.46210945],\n",
       "        [ -99.999     ,   21.06724901,   15.14253601,   15.16446955],\n",
       "        [ -99.99      ,   24.51916557,  -99.999     ,   17.96028003],\n",
       "        [  28.35462841,   21.06724874, -100.        ,   21.06724631],\n",
       "        [ -99.999     ,   17.6316894 ,  -99.999     ,   24.51916557],\n",
       "        [ -99.99999999,   15.14248407,   15.14261238,   21.06724901],\n",
       "        [ -99.9       ,   -6.82480379,  -90.        ,   17.96052411],\n",
       "        [ -90.        ,  -99.9       ,  -90.        ,   15.1644717 ],\n",
       "        [   0.        ,    0.        ,    0.        ,    0.        ]],\n",
       "\n",
       "       [[   0.        ,    0.        ,    0.        ,    0.        ],\n",
       "        [   0.        ,    0.        ,    0.        ,    0.        ],\n",
       "        [   0.        ,    0.        ,    0.        ,    0.        ],\n",
       "        [  17.96052411,  -99.999     ,   10.68880436,  -99.9       ],\n",
       "        [   0.        ,    0.        ,    0.        ,    0.        ],\n",
       "        [   0.        ,    0.        ,    0.        ,    0.        ],\n",
       "        [   0.        ,    0.        ,    0.        ,    0.        ],\n",
       "        [  17.96052411,  -99.9       ,   12.45253503,  -99.9999    ],\n",
       "        [   0.        ,    0.        ,    0.        ,    0.        ],\n",
       "        [   0.        ,    0.        ,    0.        ,    0.        ],\n",
       "        [   0.        ,    0.        ,    0.        ,    0.        ]],\n",
       "\n",
       "       [[ -99.9       ,    8.34489634,  -90.        ,   -7.7886256 ],\n",
       "        [ -90.        ,   10.38322208,  -99.        ,   -7.5435113 ],\n",
       "        [ -99.        ,   12.64802453,  -90.        ,    8.18813107],\n",
       "        [  15.1644717 ,   10.36569625,  -99.99      ,   10.18781382],\n",
       "        [ -99.99      ,    6.76312238,  -99.        ,   12.64802453],\n",
       "        [ -99.9       ,   -7.30625536,  -99.        ,   10.38322208],\n",
       "        [ -90.        ,   12.64802453,  -90.        ,   -7.05047519],\n",
       "        [  15.1644717 ,   10.20777237,  -99.        ,   10.37910224],\n",
       "        [ -99.9       ,   -7.35001046,  -99.        ,   12.64802453],\n",
       "        [ -99.99      ,   -7.74595021,  -99.        ,   10.38322208],\n",
       "        [ -90.        ,   -7.83383717,  -99.9       ,    8.34489987]],\n",
       "\n",
       "       [[   0.        ,    0.        ,    0.        ,    0.        ],\n",
       "        [   0.        ,    0.        ,    0.        ,    0.        ],\n",
       "        [   0.        ,    0.        ,    0.        ,    0.        ],\n",
       "        [   0.        ,    0.        ,    0.        ,    0.        ],\n",
       "        [   0.        ,    0.        ,    0.        ,    0.        ],\n",
       "        [   0.        ,    0.        ,    0.        ,    0.        ],\n",
       "        [   0.        ,    0.        ,    0.        ,    0.        ],\n",
       "        [   0.        ,    0.        ,    0.        ,    0.        ],\n",
       "        [   0.        ,    0.        ,    0.        ,    0.        ],\n",
       "        [   0.        ,    0.        ,    0.        ,    0.        ],\n",
       "        [   0.        ,    0.        ,    0.        ,    0.        ]]])"
      ]
     },
     "execution_count": 7,
     "metadata": {},
     "output_type": "execute_result"
    }
   ],
   "source": [
    "q_values"
   ]
  },
  {
   "cell_type": "markdown",
   "metadata": {
    "id": "-JqQfjYdfyBh"
   },
   "source": [
    "## Get Shortest Paths\n",
    "Now that the AI agent has been fully trained, we can see what it has learned by displaying the shortest path between any location in the warehouse where the robot is allowed to travel and the item packaging area.\n",
    "\n",
    "![warehouse map](https://www.danielsoper.com/teaching/img/08-warehouse-map.png)\n",
    "\n",
    "Run the code cell below to try a few different starting locations!"
   ]
  },
  {
   "cell_type": "code",
   "execution_count": 8,
   "metadata": {
    "colab": {
     "base_uri": "https://localhost:8080/"
    },
    "id": "F1YO3mj_oS2J",
    "outputId": "c148b65d-7878-4b7e-be0d-4ccb81eef4ae"
   },
   "outputs": [
    {
     "name": "stdout",
     "output_type": "stream",
     "text": [
      "[[3, 9], [2, 9], [1, 9], [1, 8], [1, 7], [1, 6], [1, 5], [0, 5]]\n",
      "[[5, 0], [5, 1], [5, 2], [5, 3], [5, 4], [5, 5], [5, 6], [5, 7], [4, 7], [3, 7], [2, 7], [1, 7], [1, 6], [1, 5], [0, 5]]\n",
      "[[9, 5], [9, 4], [9, 3], [8, 3], [7, 3], [7, 4], [7, 5], [6, 5], [5, 5], [5, 6], [5, 7], [4, 7], [3, 7], [2, 7], [1, 7], [1, 6], [1, 5], [0, 5]]\n"
     ]
    }
   ],
   "source": [
    "#display a few shortest paths\n",
    "#get shortest path is based on the final Q-table with the Q-values updated. The Q-table was created with an epsilon of 0.9 to have some random values for exploration.\n",
    "#Whereas the get_shortest_path function takes epsilon=1 to get the values from the Q-table with Q-values updated after the training. Not using random actions.\n",
    "print(get_shortest_path(3, 9)) #starting at row 3, column 9\n",
    "print(get_shortest_path(5, 0)) #starting at row 5, column 0\n",
    "print(get_shortest_path(9, 5)) #starting at row 9, column 5"
   ]
  },
  {
   "cell_type": "markdown",
   "metadata": {
    "id": "tWx7BsJxqrDv"
   },
   "source": [
    "#### Finally...\n",
    "It's great that our robot can automatically take the shortest path from any 'legal' location in the warehouse to the item packaging area. **But what about the opposite scenario?**\n",
    "\n",
    "Put differently, our robot can currently deliver an item from anywhere in the warehouse ***to*** the packaging area, but after it delivers the item, it will need to travel ***from*** the packaging area to another location in the warehouse to pick up the next item!\n",
    "\n",
    "Don't worry -- this problem is easily solved simply by ***reversing the order of the shortest path***.\n",
    "\n",
    "Run the code cell below to see an example:"
   ]
  },
  {
   "cell_type": "code",
   "execution_count": 9,
   "metadata": {
    "colab": {
     "base_uri": "https://localhost:8080/"
    },
    "id": "fKun8LInsas9",
    "outputId": "940f995b-83d3-42ab-95ce-98623d862188"
   },
   "outputs": [
    {
     "name": "stdout",
     "output_type": "stream",
     "text": [
      "[[0, 5], [1, 5], [1, 6], [1, 7], [2, 7], [3, 7], [4, 7], [5, 7], [5, 6], [5, 5], [5, 4], [5, 3], [5, 2]]\n"
     ]
    }
   ],
   "source": [
    "#display an example of reversed shortest path\n",
    "path = get_shortest_path(5, 2) #go to row 5, column 2\n",
    "path.reverse()\n",
    "print(path)"
   ]
  }
 ],
 "metadata": {
  "colab": {
   "provenance": []
  },
  "kernelspec": {
   "display_name": "Python 3 (ipykernel)",
   "language": "python",
   "name": "python3"
  },
  "language_info": {
   "codemirror_mode": {
    "name": "ipython",
    "version": 3
   },
   "file_extension": ".py",
   "mimetype": "text/x-python",
   "name": "python",
   "nbconvert_exporter": "python",
   "pygments_lexer": "ipython3",
   "version": "3.9.7"
  }
 },
 "nbformat": 4,
 "nbformat_minor": 1
}
